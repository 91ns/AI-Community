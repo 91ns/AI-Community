{
  "nbformat": 4,
  "nbformat_minor": 0,
  "metadata": {
    "colab": {
      "name": "Image Classifier Project.ipynb",
      "version": "0.3.2",
      "provenance": [],
      "collapsed_sections": [],
      "toc_visible": true,
      "include_colab_link": true
    },
    "kernelspec": {
      "name": "python3",
      "display_name": "Python 3"
    },
    "accelerator": "GPU"
  },
  "cells": [
    {
      "cell_type": "markdown",
      "metadata": {
        "id": "view-in-github",
        "colab_type": "text"
      },
      "source": [
        "<a href=\"https://colab.research.google.com/github/91ns/AI-Community/blob/master/Image_Classifier_Project.ipynb\" target=\"_parent\"><img src=\"https://colab.research.google.com/assets/colab-badge.svg\" alt=\"Open In Colab\"/></a>"
      ]
    },
    {
      "metadata": {
        "id": "X-J6E-7m-X5L",
        "colab_type": "text"
      },
      "cell_type": "markdown",
      "source": [
        "# Developing an AI application\n",
        "\n",
        "Going forward, AI algorithms will be incorporated into more and more everyday applications. For example, you might want to include an image classifier in a smart phone app. To do this, you'd use a deep learning model trained on hundreds of thousands of images as part of the overall application architecture. A large part of software development in the future will be using these types of models as common parts of applications. \n",
        "\n",
        "In this project, you'll train an image classifier to recognize different species of flowers. You can imagine using something like this in a phone app that tells you the name of the flower your camera is looking at. In practice you'd train this classifier, then export it for use in your application. We'll be using [this dataset](http://www.robots.ox.ac.uk/~vgg/data/flowers/102/index.html) of 102 flower categories, you can see a few examples below. \n",
        "\n",
        "<img src='assets/Flowers.png' width=500px>\n",
        "\n",
        "The project is broken down into multiple steps:\n",
        "\n",
        "* Load and preprocess the image dataset\n",
        "* Train the image classifier on your dataset\n",
        "* Use the trained classifier to predict image content\n",
        "\n",
        "We'll lead you through each part which you'll implement in Python.\n",
        "\n",
        "When you've completed this project, you'll have an application that can be trained on any set of labeled images. Here your network will be learning about flowers and end up as a command line application. But, what you do with your new skills depends on your imagination and effort in building a dataset. For example, imagine an app where you take a picture of a car, it tells you what the make and model is, then looks up information about it. Go build your own dataset and make something new.\n",
        "\n",
        "First up is importing the packages you'll need. It's good practice to keep all the imports at the beginning of your code. As you work through this notebook and find you need to import a package, make sure to add the import up here."
      ]
    },
    {
      "metadata": {
        "id": "y4eMVpiv-X5N",
        "colab_type": "code",
        "colab": {}
      },
      "cell_type": "code",
      "source": [
        "# Imports here\n",
        "\n",
        "# google colab does not come with torch installed. And also, in course we are using torch 0.4. \n",
        "# so following snippet of code installs the relevant version\n",
        "\n",
        "from os.path import exists\n",
        "from wheel.pep425tags import get_abbr_impl, get_impl_ver, get_abi_tag\n",
        "platform = '{}{}-{}'.format(get_abbr_impl(), get_impl_ver(), get_abi_tag())\n",
        "cuda_output = !ldconfig -p|grep cudart.so|sed -e 's/.*\\.\\([0-9]*\\)\\.\\([0-9]*\\)$/cu\\1\\2/'\n",
        "accelerator = cuda_output[0] if exists('/dev/nvidia0') else 'cpu'\n",
        "\n",
        "!pip install -q http://download.pytorch.org/whl/{accelerator}/torch-0.4.1-{platform}-linux_x86_64.whl torchvision\n",
        "import torch\n",
        "\n",
        "%matplotlib inline\n",
        "%config InlineBackend.figure_format = 'retina'\n",
        "\n",
        "import matplotlib.pyplot as plt\n",
        "\n",
        "from torch import nn\n",
        "from torch import optim\n",
        "import torch.nn.functional as F\n",
        "from torchvision import datasets, transforms, models"
      ],
      "execution_count": 0,
      "outputs": []
    },
    {
      "metadata": {
        "id": "gB4NnQiU-X5S",
        "colab_type": "text"
      },
      "cell_type": "markdown",
      "source": [
        "## Load the data\n",
        "\n",
        "Here you'll use `torchvision` to load the data ([documentation](http://pytorch.org/docs/0.3.0/torchvision/index.html)). You can [download the data here](https://s3.amazonaws.com/content.udacity-data.com/courses/nd188/flower_data.zip). The dataset is split into two parts, training and validation. For the training, you'll want to apply transformations such as random scaling, cropping, and flipping. This will help the network generalize leading to better performance. If you use a pre-trained network, you'll also need to make sure the input data is resized to 224x224 pixels as required by the networks.\n",
        "\n",
        "The validation set is used to measure the model's performance on data it hasn't seen yet. For this you don't want any scaling or rotation transformations, but you'll need to resize then crop the images to the appropriate size.\n",
        "\n",
        "The pre-trained networks available from `torchvision` were trained on the ImageNet dataset where each color channel was normalized separately. For both sets you'll need to normalize the means and standard deviations of the images to what the network expects. For the means, it's `[0.485, 0.456, 0.406]` and for the standard deviations `[0.229, 0.224, 0.225]`, calculated from the ImageNet images.  These values will shift each color channel to be centered at 0 and range from -1 to 1."
      ]
    },
    {
      "metadata": {
        "id": "Er3a9-CC-X5T",
        "colab_type": "code",
        "outputId": "308571b5-a4ee-40ee-d64b-9f2de4778124",
        "colab": {
          "base_uri": "https://localhost:8080/",
          "height": 158
        }
      },
      "cell_type": "code",
      "source": [
        "from google.colab import drive\n",
        "#drive.mount('/content/gdrive')\n",
        "#import os\n",
        "#os.chdir(\"/content\")\n",
        "#!ls\n",
        "\n",
        "#content/gdrive/My Drive/flower_data/flower_data/train\n",
        "\n",
        "\n",
        "!wget -c https://s3.amazonaws.com/content.udacity-data.com/courses/nd188/flower_data.zip\n",
        "# remove existing directories\n",
        "!rm -r flower_data __MACOSX || true\n",
        "!unzip -qq flower_data.zip\n",
        "  \n",
        "  \n",
        "data_dir =  'flower_data'\n",
        "train_dir = data_dir + '/train'\n",
        "valid_dir =  data_dir + '/valid'"
      ],
      "execution_count": 0,
      "outputs": [
        {
          "output_type": "stream",
          "text": [
            "--2019-01-04 15:02:51--  https://s3.amazonaws.com/content.udacity-data.com/courses/nd188/flower_data.zip\n",
            "Resolving s3.amazonaws.com (s3.amazonaws.com)... 52.216.165.221\n",
            "Connecting to s3.amazonaws.com (s3.amazonaws.com)|52.216.165.221|:443... connected.\n",
            "HTTP request sent, awaiting response... 416 Requested Range Not Satisfiable\n",
            "\n",
            "    The file is already fully retrieved; nothing to do.\n",
            "\n",
            "rm: cannot remove '__MACOSX': No such file or directory\n"
          ],
          "name": "stdout"
        }
      ]
    },
    {
      "metadata": {
        "id": "U6DRphi9-X5W",
        "colab_type": "code",
        "colab": {}
      },
      "cell_type": "code",
      "source": [
        "# TODO: Define your transforms for the training and validation sets\n",
        "#data_transforms = \n",
        "\n",
        "# TODO: Load the datasets with ImageFolder\n",
        "#image_datasets = \n",
        "\n",
        "# TODO: Using the image datasets and the trainforms, define the dataloaders\n",
        "#dataloaders = \n",
        "\n",
        "\n",
        "\n",
        "# TODO: Define transforms for the training data and testing data\n",
        "train_transforms = transforms.Compose([\n",
        "                                       transforms.RandomRotation(30),\n",
        "                                       transforms.RandomResizedCrop(224),\n",
        "                                       transforms.RandomHorizontalFlip(),\n",
        "                                       transforms.ToTensor(),\n",
        "                                       transforms.Normalize([0.485, 0.456, 0.406],\n",
        "                                                            [0.229, 0.224, 0.225])])\n",
        "\n",
        "test_transforms = transforms.Compose([transforms.Resize(256),\n",
        "                                      transforms.CenterCrop(224),\n",
        "                                      transforms.ToTensor(),\n",
        "                                      transforms.Normalize([0.485, 0.456, 0.406],\n",
        "                                                           [0.229, 0.224, 0.225])])\n",
        "\n",
        "\n",
        "#train_transforms = transforms.Compose([transforms.Resize(256),\n",
        "#                                      transforms.CenterCrop(224),\n",
        "#                                      transforms.ToTensor(),\n",
        "#                                      transforms.Normalize([0.485, 0.456, 0.406],\n",
        "#                                                           [0.229, 0.224, 0.225])])\n",
        "#0.485, 0.456, 0.406\n",
        "\n",
        "\n",
        "\n",
        "\n",
        "\n",
        "# Pass transforms in here, then run the next cell to see how the transforms look\n",
        "train_data = datasets.ImageFolder(train_dir, transform=train_transforms)\n",
        "test_data = datasets.ImageFolder(valid_dir, transform=test_transforms)\n",
        "\n",
        "trainloader = torch.utils.data.DataLoader(train_data, batch_size=64, shuffle=True) #shuffle=True 64\n",
        "testloader = torch.utils.data.DataLoader(test_data, batch_size=64)\n",
        "\n",
        "\n",
        "\n"
      ],
      "execution_count": 0,
      "outputs": []
    },
    {
      "metadata": {
        "id": "BAFkmZ2Oo5vX",
        "colab_type": "code",
        "outputId": "5ad3028e-0cfb-4e18-8556-4a5de62d7ce6",
        "colab": {
          "base_uri": "https://localhost:8080/",
          "height": 34
        }
      },
      "cell_type": "code",
      "source": [
        "# we will verify that GPU is enabled for this notebook\n",
        "# following should print: CUDA is available!  Training on GPU ...\n",
        "# \n",
        "# if it prints otherwise, then you need to enable GPU: \n",
        "# from Menu > Runtime > Change Runtime Type > Hardware Accelerator > GPU\n",
        "\n",
        "import torch\n",
        "import numpy as np\n",
        "\n",
        "# check if CUDA is available\n",
        "train_on_gpu = torch.cuda.is_available()\n",
        "\n",
        "if not train_on_gpu:\n",
        "    print('CUDA is not available.  Training on CPU ...')\n",
        "else:\n",
        "    print('CUDA is available!  Training on GPU ...')"
      ],
      "execution_count": 0,
      "outputs": [
        {
          "output_type": "stream",
          "text": [
            "CUDA is available!  Training on GPU ...\n"
          ],
          "name": "stdout"
        }
      ]
    },
    {
      "metadata": {
        "id": "mfTrX6Kmn8O9",
        "colab_type": "code",
        "outputId": "6cbad970-c2de-4dad-e131-a41247ac95d5",
        "colab": {
          "base_uri": "https://localhost:8080/",
          "height": 336
        }
      },
      "cell_type": "code",
      "source": [
        "# Run this to test your data loader\n",
        "!pip install Pillow==4.0.0\n",
        "!pip install PIL\n",
        "!pip install image\n",
        "\n",
        "from PIL import Image\n",
        "\n",
        "\n",
        "\n",
        "def imshow(image, ax=None, title=None, normalize=True):\n",
        "    \"\"\"Imshow for Tensor.\"\"\"\n",
        "    if ax is None:\n",
        "        fig, ax = plt.subplots()\n",
        "    image = image.numpy().transpose((1, 2, 0))\n",
        "\n",
        "    if normalize:\n",
        "        mean = np.array([0.485, 0.456, 0.406])\n",
        "        std = np.array([0.229, 0.224, 0.225])\n",
        "        image = std * image + mean\n",
        "        image = np.clip(image, 0, 1)\n",
        "\n",
        "    ax.imshow(image)\n",
        "    ax.spines['top'].set_visible(False)\n",
        "    ax.spines['right'].set_visible(False)\n",
        "    ax.spines['left'].set_visible(False)\n",
        "    ax.spines['bottom'].set_visible(False)\n",
        "    ax.tick_params(axis='both', length=0)\n",
        "    ax.set_xticklabels('')\n",
        "    ax.set_yticklabels('')\n",
        "\n",
        "    return ax"
      ],
      "execution_count": 0,
      "outputs": [
        {
          "output_type": "stream",
          "text": [
            "Collecting Pillow==4.0.0\n",
            "  Using cached https://files.pythonhosted.org/packages/37/e8/b3fbf87b0188d22246678f8cd61e23e31caa1769ebc06f1664e2e5fe8a17/Pillow-4.0.0-cp36-cp36m-manylinux1_x86_64.whl\n",
            "Requirement already satisfied: olefile in /usr/local/lib/python3.6/dist-packages (from Pillow==4.0.0) (0.46)\n",
            "\u001b[31mtorchvision 0.2.1 has requirement pillow>=4.1.1, but you'll have pillow 4.0.0 which is incompatible.\u001b[0m\n",
            "Installing collected packages: Pillow\n",
            "  Found existing installation: Pillow 5.4.0\n",
            "    Uninstalling Pillow-5.4.0:\n",
            "      Successfully uninstalled Pillow-5.4.0\n",
            "Successfully installed Pillow-4.0.0\n",
            "Collecting PIL\n",
            "\u001b[31m  Could not find a version that satisfies the requirement PIL (from versions: )\u001b[0m\n",
            "\u001b[31mNo matching distribution found for PIL\u001b[0m\n",
            "Requirement already satisfied: image in /usr/local/lib/python3.6/dist-packages (1.5.27)\n",
            "Requirement already satisfied: django in /usr/local/lib/python3.6/dist-packages (from image) (2.1.4)\n",
            "Requirement already satisfied: pillow in /usr/local/lib/python3.6/dist-packages (from image) (4.0.0)\n",
            "Requirement already satisfied: pytz in /usr/local/lib/python3.6/dist-packages (from django->image) (2018.7)\n",
            "Requirement already satisfied: olefile in /usr/local/lib/python3.6/dist-packages (from pillow->image) (0.46)\n"
          ],
          "name": "stdout"
        }
      ]
    },
    {
      "metadata": {
        "id": "L5aJeB61nZ6G",
        "colab_type": "code",
        "outputId": "64d94751-d30a-479b-d8a9-b771183f493a",
        "colab": {
          "base_uri": "https://localhost:8080/",
          "height": 266
        }
      },
      "cell_type": "code",
      "source": [
        "#!pip install --upgrade pillow\n",
        "\n",
        "from PIL import Image\n",
        "\n",
        "images, labels = next(iter(trainloader))\n",
        "imshow(images[0], normalize=True)\n"
      ],
      "execution_count": 0,
      "outputs": [
        {
          "output_type": "execute_result",
          "data": {
            "text/plain": [
              "<matplotlib.axes._subplots.AxesSubplot at 0x7f1959edf1d0>"
            ]
          },
          "metadata": {
            "tags": []
          },
          "execution_count": 27
        },
        {
          "output_type": "display_data",
          "data": {
            "image/png": "[encoded data removed]",
            "text/plain": [
              "<matplotlib.figure.Figure at 0x7f195cff27b8>"
            ]
          },
          "metadata": {
            "tags": [],
            "image/png": {
              "width": 231,
              "height": 231
            }
          }
        }
      ]
    },
    {
      "metadata": {
        "id": "y-pq7oib-X5a",
        "colab_type": "text"
      },
      "cell_type": "markdown",
      "source": [
        "### Label mapping\n",
        "\n",
        "You'll also need to load in a mapping from category label to category name. You can find this in the file `cat_to_name.json`. It's a JSON object which you can read in with the [`json` module](https://docs.python.org/2/library/json.html). This will give you a dictionary mapping the integer encoded categories to the actual names of the flowers."
      ]
    },
    {
      "metadata": {
        "id": "oRoTbS-f-X5c",
        "colab_type": "code",
        "colab": {}
      },
      "cell_type": "code",
      "source": [
        "#!mkdir $data_path\n",
        "\n",
        "import json\n",
        "\n",
        "with open('gdrive/My Drive/flower_data_/flower_data/cat_to_name.json', 'r') as f:\n",
        "    cat_to_name = json.load(f)"
      ],
      "execution_count": 0,
      "outputs": []
    },
    {
      "metadata": {
        "id": "38sQ9Ce2-X5f",
        "colab_type": "text"
      },
      "cell_type": "markdown",
      "source": [
        "# Building and training the classifier\n",
        "\n",
        "Now that the data is ready, it's time to build and train the classifier. As usual, you should use one of the pretrained models from `torchvision.models` to get the image features. Build and train a new feed-forward classifier using those features.\n",
        "\n",
        "We're going to leave this part up to you. If you want to talk through it with someone, chat with your fellow students! You can also ask questions on the forums or join the instructors in office hours.\n",
        "\n",
        "Refer to [the rubric](https://review.udacity.com/#!/rubrics/1663/view) for guidance on successfully completing this section. Things you'll need to do:\n",
        "\n",
        "* Load a [pre-trained network](http://pytorch.org/docs/master/torchvision/models.html) (If you need a starting point, the VGG networks work great and are straightforward to use)\n",
        "* Define a new, untrained feed-forward network as a classifier, using ReLU activations and dropout\n",
        "* Train the classifier layers using backpropagation using the pre-trained network to get the features\n",
        "* Track the loss and accuracy on the validation set to determine the best hyperparameters\n",
        "\n",
        "We've left a cell open for you below, but use as many as you need. Our advice is to break the problem up into smaller parts you can run separately. Check that each part is doing what you expect, then move on to the next. You'll likely find that as you work through each part, you'll need to go back and modify your previous code. This is totally normal!\n",
        "\n",
        "When training make sure you're updating only the weights of the feed-forward network. You should be able to get the validation accuracy above 70% if you build everything right. Make sure to try different hyperparameters (learning rate, units in the classifier, epochs, etc) to find the best model. Save those hyperparameters to use as default values in the next part of the project."
      ]
    },
    {
      "metadata": {
        "id": "DDUpyaLp-X5h",
        "colab_type": "code",
        "colab": {}
      },
      "cell_type": "code",
      "source": [
        "# TODO: Build and train your network\n",
        "#model = models.densenet121(pretrained=True)\n",
        "model = models.vgg16(pretrained=True)\n"
      ],
      "execution_count": 0,
      "outputs": []
    },
    {
      "metadata": {
        "id": "WAmmQQceHgqk",
        "colab_type": "code",
        "outputId": "f848579e-56ee-42fa-a400-561ceabb87bd",
        "colab": {
          "base_uri": "https://localhost:8080/",
          "height": 791
        }
      },
      "cell_type": "code",
      "source": [
        "# Use GPU if it's available\n",
        "device = torch.device(\"cuda\" if torch.cuda.is_available() else \"cpu\")\n",
        "#import OrderedDicted to corectly align the network layers\n",
        "#import nn you use activation and dropout features\n",
        "from collections import OrderedDict\n",
        "from torch import nn\n",
        "#create classifier\n",
        "\n",
        "\n",
        "#Initialize training params  \n",
        "#freeze gradient parameters in pretrained model\n",
        "for param in model.parameters():\n",
        "    param.require_grad = False\n",
        "\n",
        "\n",
        "classifier =nn.Sequential(OrderedDict([('fc1', nn.Linear(25088, 512)),\n",
        "                           ('relu', nn.ReLU(True)), \n",
        "                           ('dropout', nn.Dropout(p=0.2)),\n",
        "                           ('fc2', nn.Linear(512, 256)),\n",
        "                          \n",
        "                           ('relu', nn.ReLU(True)), \n",
        "                           ('dropout', nn.Dropout(p=0.2)),\n",
        "                                       \n",
        "                           ('fc3', nn.Linear(256, 128)),\n",
        "                          \n",
        "                           ('relu', nn.ReLU(True)), \n",
        "                           ('dropout', nn.Dropout(p=0.2)),\n",
        "                                       \n",
        "                                       \n",
        "                           ('fc4', nn.Linear(128, 102)),\n",
        "                                       \n",
        "                                       \n",
        "                                       \n",
        "                           ('output', nn.LogSoftmax(dim=1))\n",
        "                             ]))\n",
        "\n",
        "\n",
        "\n",
        "#classifier = nn.Sequential(OrderedDict([\n",
        "#                              ('fc1', nn.Linear(25088, 512)),\n",
        "#                              ('relu', nn.ReLU()),\n",
        "#                              ('drpot', nn.Dropout(p=0.5)),\n",
        "#                              ('hidden', nn.Linear(512, 100)),                       \n",
        "#                              ('fc2', nn.Linear(100, 102)),\n",
        "#                              ('output', nn.LogSoftmax(dim=1)),\n",
        "#                              ]))\n",
        "\n",
        "#replace the model's classifier with this new classifier \n",
        "#transfer learning connection applied here\n",
        "model.classifier = classifier\n",
        "\n",
        "\n",
        "#import optimizer for \n",
        "from torch import optim\n",
        "#define criteria and optimizer\n",
        "#criterion = nn.CrossEntropyLoss()\n",
        "criterion = nn.NLLLoss() #------------------------------------------\n",
        "\n",
        "optimizer = optim.SGD(model.parameters(), lr = 0.0001, momentum = 0.5) #, momentum = 0.5 RMSprop\n",
        "#optimizer = optim.RMSprop(model.parameters(), lr = 0.0001, momentum = 0.5) #, momentum = 0.5 RMSprop\n",
        "\n",
        "#optimizer = optim.Adam(model.parameters(),lr = 0.0001)\n",
        "optimizer = optim.Adam(model.classifier.parameters(), lr=0.001) # ----------------------\n",
        "scheduler = optim.lr_scheduler.StepLR(optimizer, step_size=10, gamma=0.1)\n",
        "\n",
        "model.to(device);\n",
        "model"
      ],
      "execution_count": 0,
      "outputs": [
        {
          "output_type": "execute_result",
          "data": {
            "text/plain": [
              "VGG(\n",
              "  (features): Sequential(\n",
              "    (0): Conv2d(3, 64, kernel_size=(3, 3), stride=(1, 1), padding=(1, 1))\n",
              "    (1): ReLU(inplace)\n",
              "    (2): Conv2d(64, 64, kernel_size=(3, 3), stride=(1, 1), padding=(1, 1))\n",
              "    (3): ReLU(inplace)\n",
              "    (4): MaxPool2d(kernel_size=2, stride=2, padding=0, dilation=1, ceil_mode=False)\n",
              "    (5): Conv2d(64, 128, kernel_size=(3, 3), stride=(1, 1), padding=(1, 1))\n",
              "    (6): ReLU(inplace)\n",
              "    (7): Conv2d(128, 128, kernel_size=(3, 3), stride=(1, 1), padding=(1, 1))\n",
              "    (8): ReLU(inplace)\n",
              "    (9): MaxPool2d(kernel_size=2, stride=2, padding=0, dilation=1, ceil_mode=False)\n",
              "    (10): Conv2d(128, 256, kernel_size=(3, 3), stride=(1, 1), padding=(1, 1))\n",
              "    (11): ReLU(inplace)\n",
              "    (12): Conv2d(256, 256, kernel_size=(3, 3), stride=(1, 1), padding=(1, 1))\n",
              "    (13): ReLU(inplace)\n",
              "    (14): Conv2d(256, 256, kernel_size=(3, 3), stride=(1, 1), padding=(1, 1))\n",
              "    (15): ReLU(inplace)\n",
              "    (16): MaxPool2d(kernel_size=2, stride=2, padding=0, dilation=1, ceil_mode=False)\n",
              "    (17): Conv2d(256, 512, kernel_size=(3, 3), stride=(1, 1), padding=(1, 1))\n",
              "    (18): ReLU(inplace)\n",
              "    (19): Conv2d(512, 512, kernel_size=(3, 3), stride=(1, 1), padding=(1, 1))\n",
              "    (20): ReLU(inplace)\n",
              "    (21): Conv2d(512, 512, kernel_size=(3, 3), stride=(1, 1), padding=(1, 1))\n",
              "    (22): ReLU(inplace)\n",
              "    (23): MaxPool2d(kernel_size=2, stride=2, padding=0, dilation=1, ceil_mode=False)\n",
              "    (24): Conv2d(512, 512, kernel_size=(3, 3), stride=(1, 1), padding=(1, 1))\n",
              "    (25): ReLU(inplace)\n",
              "    (26): Conv2d(512, 512, kernel_size=(3, 3), stride=(1, 1), padding=(1, 1))\n",
              "    (27): ReLU(inplace)\n",
              "    (28): Conv2d(512, 512, kernel_size=(3, 3), stride=(1, 1), padding=(1, 1))\n",
              "    (29): ReLU(inplace)\n",
              "    (30): MaxPool2d(kernel_size=2, stride=2, padding=0, dilation=1, ceil_mode=False)\n",
              "  )\n",
              "  (classifier): Sequential(\n",
              "    (fc1): Linear(in_features=25088, out_features=512, bias=True)\n",
              "    (relu): ReLU(inplace)\n",
              "    (dropout): Dropout(p=0.1)\n",
              "    (fc2): Linear(in_features=512, out_features=256, bias=True)\n",
              "    (fc3): Linear(in_features=256, out_features=128, bias=True)\n",
              "    (fc4): Linear(in_features=128, out_features=102, bias=True)\n",
              "    (output): LogSoftmax()\n",
              "  )\n",
              ")"
            ]
          },
          "metadata": {
            "tags": []
          },
          "execution_count": 34
        }
      ]
    },
    {
      "metadata": {
        "id": "cLWE6D5MNaWY",
        "colab_type": "code",
        "outputId": "5580d47a-e193-4eb6-b1c9-d70b2f8cc4ce",
        "colab": {
          "base_uri": "https://localhost:8080/",
          "height": 193
        }
      },
      "cell_type": "code",
      "source": [
        "#define training function\n",
        "def train (model, loader, criterion, gpu):\n",
        "    model.train()\n",
        "    current_loss = 0\n",
        "    current_correct = 0\n",
        "    for train, y_train in iter(loader):\n",
        "        if gpu:\n",
        "            train, y_train = train.to('cuda'), y_train.to('cuda')\n",
        "        optimizer.zero_grad()\n",
        "        output = model.forward(train)\n",
        "        _, preds = torch.max(output,1)\n",
        "        loss = criterion(output, y_train)\n",
        "        loss.backward()\n",
        "        optimizer.step()\n",
        "        current_loss += loss.item()*train.size(0)\n",
        "        current_correct += torch.sum(preds == y_train.data)\n",
        "    epoch_loss = current_loss / len(trainloader.dataset)\n",
        "    epoch_acc = current_correct.double() / len(trainloader.dataset)\n",
        "        \n",
        "    return epoch_loss, epoch_acc\n",
        "  \n",
        "  \n",
        "  #define validation function\n",
        "def validation (model, loader, criterion, gpu):\n",
        "    model.eval()\n",
        "    valid_loss = 0\n",
        "    valid_correct = 0\n",
        "    for valid, y_valid in iter(loader):\n",
        "        if gpu:\n",
        "            valid, y_valid = valid.to('cuda'), y_valid.to('cuda')\n",
        "        output = model.forward(valid)\n",
        "        valid_loss += criterion(output, y_valid).item()*valid.size(0)\n",
        "        equal = (output.max(dim=1)[1] == y_valid.data)\n",
        "        valid_correct += torch.sum(equal)#type(torch.FloatTensor)\n",
        "    \n",
        "    epoch_loss = valid_loss / len(testloader.dataset)\n",
        "    epoch_acc = valid_correct.double() / len(testloader.dataset)\n",
        "    \n",
        "    return epoch_loss, epoch_acc\n",
        "  \n",
        "  \n",
        "\n",
        "#Initialize training params  \n",
        "#freeze gradient parameters in pretrained model\n",
        "for param in model.parameters():\n",
        "    param.require_grad = False\n",
        "#train and validate\n",
        "epochs = 10  \n",
        "epoch = 0\n",
        "#send model to GPU\n",
        "if train_on_gpu:\n",
        "    model.to('cuda')\n",
        "    \n",
        "for e in range(epochs):\n",
        "    epoch +=1\n",
        "    \n",
        "    scheduler.step(e)\n",
        "    \n",
        "    print(epoch)\n",
        "    with torch.set_grad_enabled(True):\n",
        "        epoch_train_loss, epoch_train_acc = train(model,trainloader, criterion, train_on_gpu)\n",
        "        print(\"Epoch: {} Train Loss : {:.4f}  Train Accuracy: {:.4f}\".format(epoch,epoch_train_loss,epoch_train_acc))\n",
        "    with torch.no_grad():\n",
        "        epoch_val_loss, epoch_val_acc = validation(model, testloader, criterion, train_on_gpu)\n",
        "        print(\"Epoch: {} Validation Loss : {:.4f}  Validation Accuracy {:.4f}\".format(epoch,epoch_val_loss,epoch_val_acc))\n",
        "  "
      ],
      "execution_count": 0,
      "outputs": [
        {
          "output_type": "stream",
          "text": [
            "1\n",
            "Epoch: 1 Train Loss : 2.3719  Train Accuracy: 0.4266\n",
            "Epoch: 1 Validation Loss : 0.8681  Validation Accuracy 0.7567\n",
            "2\n",
            "Epoch: 2 Train Loss : 1.1860  Train Accuracy: 0.6775\n",
            "Epoch: 2 Validation Loss : 0.7046  Validation Accuracy 0.7995\n",
            "3\n",
            "Epoch: 3 Train Loss : 0.9759  Train Accuracy: 0.7315\n",
            "Epoch: 3 Validation Loss : 0.5746  Validation Accuracy 0.8411\n",
            "4\n"
          ],
          "name": "stdout"
        }
      ]
    },
    {
      "metadata": {
        "id": "HBqghRl_-X5k",
        "colab_type": "text"
      },
      "cell_type": "markdown",
      "source": [
        "## Save the checkpoint\n",
        "\n",
        "Now that your network is trained, save the model so you can load it later for making predictions. You probably want to save other things such as the mapping of classes to indices which you get from one of the image datasets: `image_datasets['train'].class_to_idx`. You can attach this to the model as an attribute which makes inference easier later on.\n",
        "\n",
        "```model.class_to_idx = image_datasets['train'].class_to_idx```\n",
        "\n",
        "Remember that you'll want to completely rebuild the model later so you can use it for inference. Make sure to include any information you need in the checkpoint. If you want to load the model and keep training, you'll want to save the number of epochs as well as the optimizer state, `optimizer.state_dict`. You'll likely want to use this trained model in the next part of the project, so best to save it now."
      ]
    },
    {
      "metadata": {
        "id": "QpOtvZWG-X5m",
        "colab_type": "code",
        "colab": {}
      },
      "cell_type": "code",
      "source": [
        "# TODO: Save the checkpoint \n",
        "torch.save(model.state_dict(), 'classifier.pt')\n"
      ],
      "execution_count": 0,
      "outputs": []
    },
    {
      "metadata": {
        "id": "CMaQfniC-X5q",
        "colab_type": "text"
      },
      "cell_type": "markdown",
      "source": [
        "## Loading the checkpoint\n",
        "\n",
        "At this point it's good to write a function that can load a checkpoint and rebuild the model. That way you can come back to this project and keep working on it without having to retrain the network."
      ]
    },
    {
      "metadata": {
        "id": "4dqymd8I-X5r",
        "colab_type": "code",
        "colab": {}
      },
      "cell_type": "code",
      "source": [
        "# TODO: Write a function that loads a checkpoint and rebuilds the model\n",
        "\n",
        "\n",
        "\n",
        "\n",
        "from collections import OrderedDict\n",
        "\n",
        "import torch\n",
        "import torch.nn as nn\n",
        "from torchvision import models\n",
        "\n",
        "def load_checkpoint(checkpoint_path):\n",
        "  model = models.vgg16(pretrained=True)\n",
        "  classifier =nn.Sequential(OrderedDict([('fc1', nn.Linear(25088, 512)),\n",
        "                                         ('relu', nn.ReLU(True)), \n",
        "                                         ('dropout', nn.Dropout(p=0.25)),\n",
        "                                         ('fc2', nn.Linear(512, 256)),\n",
        "                                         ('relu', nn.ReLU(True)), \n",
        "                                         ('dropout', nn.Dropout(p=0.25)),\n",
        "                                         ('fc3', nn.Linear(256, 128)),\n",
        "                                         ('relu', nn.ReLU(True)), \n",
        "                                         ('dropout', nn.Dropout(p=0.25)),\n",
        "                                         ('fc4', nn.Linear(128, 102)),\n",
        "                                         ('output', nn.LogSoftmax(dim=1))]))\n",
        "  model.classifier = classifier    \n",
        "  model.load_state_dict(torch.load(checkpoint_path, map_location='cpu'), strict=False)\n",
        "  for param in model.parameters():\n",
        "    param.requires_grad = False\n",
        "  model.eval()\n",
        "  return model\n",
        "\n",
        "# Load your model to this variable\n",
        "model = load_checkpoint('classifier.pt')\n",
        "   \n",
        "# If you used something other than 224x224 cropped images, set the correct size here\n",
        "image_size = 224\n",
        "# Values you used for normalizing the images. Default here are for \n",
        "# pretrained models from torchvision.\n",
        "norm_mean = [0.485, 0.456, 0.406]\n",
        "norm_std = [0.229, 0.224, 0.225]"
      ],
      "execution_count": 0,
      "outputs": []
    },
    {
      "metadata": {
        "id": "gVDH9UQ97h0b",
        "colab_type": "code",
        "outputId": "d86243ce-4a4f-47a1-f7b5-cf4431e94535",
        "colab": {
          "base_uri": "https://localhost:8080/",
          "height": 424
        }
      },
      "cell_type": "code",
      "source": [
        "# we will download the required data files\n",
        "!wget -cq https://s3.amazonaws.com/content.udacity-data.com/courses/nd188/flower_data.zip\n",
        "!rm -r flower_data || true\n",
        "!unzip -qq flower_data.zip\n",
        "\n",
        "!wget -O flower_data_orginal_test.zip \"https://www.dropbox.com/s/da6ye9genbsdzbq/flower_data_original_test.zip?dl=1\"\n",
        "from shutil import unpack_archive\n",
        "unpack_archive('flower_data_orginal_test.zip', 'destination_path/')\n",
        "!unzip -qq flower_data_orginal_test.zip\n",
        "\n",
        "\n",
        "# required imports\n",
        "import os\n",
        "\n",
        "from torchvision import datasets, transforms\n",
        "\n",
        "\n",
        "data_transforms = transforms.Compose([\n",
        "        transforms.Resize(256),\n",
        "        transforms.CenterCrop(image_size),\n",
        "        transforms.ToTensor(),\n",
        "        transforms.Normalize(norm_mean, norm_std)\n",
        "    ])\n",
        "\n",
        "data_dir = 'destination_path'\n",
        "x = '' #'valid'\n",
        "image_dataset = datasets.ImageFolder(os.path.join(data_dir, x), data_transforms)\n",
        "dataloader = torch.utils.data.DataLoader(image_dataset, batch_size=32, shuffle=True, num_workers=4)\n",
        "\n",
        "def calculate_accuracy(model, dataloader):\n",
        "    model.eval()\n",
        "    with torch.no_grad():\n",
        "        total_predictions_vector = None\n",
        "        for index, (inputs, labels) in enumerate(dataloader):\n",
        "            outputs = model.forward(inputs)\n",
        "            _, y_hat = outputs.max(1)\n",
        "            current_batch_predictions_vector = (y_hat==labels.data)\n",
        "            if index == 0:\n",
        "                total_predictions_vector = current_batch_predictions_vector\n",
        "            else:\n",
        "              total_predictions_vector = torch.cat(( current_batch_predictions_vector, total_predictions_vector), 0)\n",
        "\n",
        "        total_predictions_vector = total_predictions_vector.cpu()\n",
        "        valid_items = total_predictions_vector.sum().numpy()\n",
        "        total_items = list(total_predictions_vector.size())[0]\n",
        "        accuracy = valid_items/total_items\n",
        "        return accuracy\n",
        "      \n",
        "      \n",
        "print(\"Accuracy on validation set you have got is: \", calculate_accuracy(model, dataloader))   \n"
      ],
      "execution_count": 0,
      "outputs": [
        {
          "output_type": "stream",
          "text": [
            "--2019-01-04 14:49:21--  https://www.dropbox.com/s/da6ye9genbsdzbq/flower_data_original_test.zip?dl=1\n",
            "Resolving www.dropbox.com (www.dropbox.com)... 162.125.82.1, 2620:100:6032:1::a27d:5201\n",
            "Connecting to www.dropbox.com (www.dropbox.com)|162.125.82.1|:443... connected.\n",
            "HTTP request sent, awaiting response... 301 Moved Permanently\n",
            "Location: /s/dl/da6ye9genbsdzbq/flower_data_original_test.zip [following]\n",
            "--2019-01-04 14:49:21--  https://www.dropbox.com/s/dl/da6ye9genbsdzbq/flower_data_original_test.zip\n",
            "Reusing existing connection to www.dropbox.com:443.\n",
            "HTTP request sent, awaiting response... 302 Found\n",
            "Location: https://uc80bc059607a1727a5cadb2ca04.dl.dropboxusercontent.com/cd/0/get/AYwqdGr1X7a7ZjlspD1fXzxo2AF9EGwxrwOHN1CLJs-9tLsb9QnumFBW8Qe7XGtGpBKtfK0biMguIdme4H4G3W3uMnqYn4mSySQuYprGCnfD5yQjrEKjaqydsAqispsIn-1XgrWsq6d3ngFONeyGxMaDUACd5LUDjvDZVGCrDp5EhObLMz_7sxYmqq_zAOmetDw/file?dl=1 [following]\n",
            "--2019-01-04 14:49:22--  https://uc80bc059607a1727a5cadb2ca04.dl.dropboxusercontent.com/cd/0/get/AYwqdGr1X7a7ZjlspD1fXzxo2AF9EGwxrwOHN1CLJs-9tLsb9QnumFBW8Qe7XGtGpBKtfK0biMguIdme4H4G3W3uMnqYn4mSySQuYprGCnfD5yQjrEKjaqydsAqispsIn-1XgrWsq6d3ngFONeyGxMaDUACd5LUDjvDZVGCrDp5EhObLMz_7sxYmqq_zAOmetDw/file?dl=1\n",
            "Resolving uc80bc059607a1727a5cadb2ca04.dl.dropboxusercontent.com (uc80bc059607a1727a5cadb2ca04.dl.dropboxusercontent.com)... 162.125.82.6, 2620:100:6032:6::a27d:5206\n",
            "Connecting to uc80bc059607a1727a5cadb2ca04.dl.dropboxusercontent.com (uc80bc059607a1727a5cadb2ca04.dl.dropboxusercontent.com)|162.125.82.6|:443... connected.\n",
            "HTTP request sent, awaiting response... 200 OK\n",
            "Length: 35050314 (33M) [application/binary]\n",
            "Saving to: ‘flower_data_orginal_test.zip’\n",
            "\n",
            "flower_data_orginal 100%[===================>]  33.43M  8.02MB/s    in 6.0s    \n",
            "\n",
            "2019-01-04 14:49:28 (5.56 MB/s) - ‘flower_data_orginal_test.zip’ saved [35050314/35050314]\n",
            "\n",
            "replace 1/image_06743.jpg? [y]es, [n]o, [A]ll, [N]one, [r]ename: A\n",
            "Accuracy on validation set you have got is:  0.8791208791208791\n"
          ],
          "name": "stdout"
        }
      ]
    },
    {
      "metadata": {
        "id": "oOZReqrT-X5v",
        "colab_type": "text"
      },
      "cell_type": "markdown",
      "source": [
        "# Inference for classification\n",
        "\n",
        "Now you'll write a function to use a trained network for inference. That is, you'll pass an image into the network and predict the class of the flower in the image. Write a function called `predict` that takes an image and a model, then returns the top $K$ most likely classes along with the probabilities. It should look like \n",
        "\n",
        "```python\n",
        "probs, classes = predict(image_path, model)\n",
        "print(probs)\n",
        "print(classes)\n",
        "> [ 0.01558163  0.01541934  0.01452626  0.01443549  0.01407339]\n",
        "> ['70', '3', '45', '62', '55']\n",
        "```\n",
        "\n",
        "First you'll need to handle processing the input image such that it can be used in your network. \n",
        "\n",
        "## Image Preprocessing\n",
        "\n",
        "You'll want to use `PIL` to load the image ([documentation](https://pillow.readthedocs.io/en/latest/reference/Image.html)). It's best to write a function that preprocesses the image so it can be used as input for the model. This function should process the images in the same manner used for training. \n",
        "\n",
        "First, resize the images where the shortest side is 256 pixels, keeping the aspect ratio. This can be done with the [`thumbnail`](http://pillow.readthedocs.io/en/3.1.x/reference/Image.html#PIL.Image.Image.thumbnail) or [`resize`](http://pillow.readthedocs.io/en/3.1.x/reference/Image.html#PIL.Image.Image.thumbnail) methods. Then you'll need to crop out the center 224x224 portion of the image.\n",
        "\n",
        "Color channels of images are typically encoded as integers 0-255, but the model expected floats 0-1. You'll need to convert the values. It's easiest with a Numpy array, which you can get from a PIL image like so `np_image = np.array(pil_image)`.\n",
        "\n",
        "As before, the network expects the images to be normalized in a specific way. For the means, it's `[0.485, 0.456, 0.406]` and for the standard deviations `[0.229, 0.224, 0.225]`. You'll want to subtract the means from each color channel, then divide by the standard deviation. \n",
        "\n",
        "And finally, PyTorch expects the color channel to be the first dimension but it's the third dimension in the PIL image and Numpy array. You can reorder dimensions using [`ndarray.transpose`](https://docs.scipy.org/doc/numpy-1.13.0/reference/generated/numpy.ndarray.transpose.html). The color channel needs to be first and retain the order of the other two dimensions."
      ]
    },
    {
      "metadata": {
        "id": "_9Hq9Zjq-X5w",
        "colab_type": "code",
        "colab": {}
      },
      "cell_type": "code",
      "source": [
        "def process_image(image):\n",
        "    ''' Scales, crops, and normalizes a PIL image for a PyTorch model,\n",
        "        returns an Numpy array\n",
        "    '''\n",
        "    \n",
        "    # TODO: Process a PIL image for use in a PyTorch model"
      ],
      "execution_count": 0,
      "outputs": []
    },
    {
      "metadata": {
        "id": "Ks_NqmrO-X50",
        "colab_type": "text"
      },
      "cell_type": "markdown",
      "source": [
        "To check your work, the function below converts a PyTorch tensor and displays it in the notebook. If your `process_image` function works, running the output through this function should return the original image (except for the cropped out portions)."
      ]
    },
    {
      "metadata": {
        "id": "_YXxj1AI-X51",
        "colab_type": "code",
        "colab": {}
      },
      "cell_type": "code",
      "source": [
        "def imshow(image, ax=None, title=None):\n",
        "    \"\"\"Imshow for Tensor.\"\"\"\n",
        "    if ax is None:\n",
        "        fig, ax = plt.subplots()\n",
        "    \n",
        "    # PyTorch tensors assume the color channel is the first dimension\n",
        "    # but matplotlib assumes is the third dimension\n",
        "    image = image.numpy().transpose((1, 2, 0))\n",
        "    \n",
        "    # Undo preprocessing\n",
        "    mean = np.array([0.485, 0.456, 0.406])\n",
        "    std = np.array([0.229, 0.224, 0.225])\n",
        "    image = std * image + mean\n",
        "    \n",
        "    # Image needs to be clipped between 0 and 1 or it looks like noise when displayed\n",
        "    image = np.clip(image, 0, 1)\n",
        "    \n",
        "    ax.imshow(image)\n",
        "    ax.grid(None)\n",
        "    \n",
        "    return ax"
      ],
      "execution_count": 0,
      "outputs": []
    },
    {
      "metadata": {
        "id": "hCgqe2Vo-X54",
        "colab_type": "text"
      },
      "cell_type": "markdown",
      "source": [
        "## Class Prediction\n",
        "\n",
        "Once you can get images in the correct format, it's time to write a function for making predictions with your model. A common practice is to predict the top 5 or so (usually called top-$K$) most probable classes. You'll want to calculate the class probabilities then find the $K$ largest values.\n",
        "\n",
        "To get the top $K$ largest values in a tensor use [`x.topk(k)`](http://pytorch.org/docs/master/torch.html#torch.topk). This method returns both the highest `k` probabilities and the indices of those probabilities corresponding to the classes. You need to convert from these indices to the actual class labels using `class_to_idx` which hopefully you added to the model or from an `ImageFolder` you used to load the data ([see here](#Save-the-checkpoint)). Make sure to invert the dictionary so you get a mapping from index to class as well.\n",
        "\n",
        "Again, this method should take a path to an image and a model checkpoint, then return the probabilities and classes.\n",
        "\n",
        "```python\n",
        "probs, classes = predict(image_path, model)\n",
        "print(probs)\n",
        "print(classes)\n",
        "> [ 0.01558163  0.01541934  0.01452626  0.01443549  0.01407339]\n",
        "> ['70', '3', '45', '62', '55']\n",
        "```"
      ]
    },
    {
      "metadata": {
        "id": "DnOmNiSe-X55",
        "colab_type": "code",
        "colab": {}
      },
      "cell_type": "code",
      "source": [
        "def predict(image_path, model, topk=5):\n",
        "    ''' Predict the class (or classes) of an image using a trained deep learning model.\n",
        "    '''\n",
        "    \n",
        "    # TODO: Implement the code to predict the class from an image file"
      ],
      "execution_count": 0,
      "outputs": []
    },
    {
      "metadata": {
        "id": "8NCobWiJ-X58",
        "colab_type": "text"
      },
      "cell_type": "markdown",
      "source": [
        "## Sanity Checking\n",
        "\n",
        "Now that you can use a trained model for predictions, check to make sure it makes sense. Even if the validation accuracy is high, it's always good to check that there aren't obvious bugs. Use `matplotlib` to plot the probabilities for the top 5 classes as a bar graph, along with the input image. It should look like this:\n",
        "\n",
        "<img src='assets/inference_example.png' width=300px>\n",
        "\n",
        "You can convert from the class integer encoding to actual flower names with the `cat_to_name.json` file (should have been loaded earlier in the notebook). To show a PyTorch tensor as an image, use the `imshow` function defined above."
      ]
    },
    {
      "metadata": {
        "id": "rf5OgSlB-X5-",
        "colab_type": "code",
        "colab": {}
      },
      "cell_type": "code",
      "source": [
        "# TODO: Display an image along with the top 5 classes"
      ],
      "execution_count": 0,
      "outputs": []
    }
  ]
}